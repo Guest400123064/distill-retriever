{
 "cells": [
  {
   "cell_type": "code",
   "execution_count": 1,
   "metadata": {},
   "outputs": [
    {
     "name": "stderr",
     "output_type": "stream",
     "text": [
      "/home/dogdog/Miniconda3/envs/cis630/lib/python3.8/site-packages/tqdm/auto.py:21: TqdmWarning: IProgress not found. Please update jupyter and ipywidgets. See https://ipywidgets.readthedocs.io/en/stable/user_install.html\n",
      "  from .autonotebook import tqdm as notebook_tqdm\n",
      "Downloading (…)c9193/.gitattributes: 100%|██████████| 1.53k/1.53k [00:00<00:00, 365kB/s]\n",
      "Downloading (…)_Pooling/config.json: 100%|██████████| 190/190 [00:00<00:00, 90.2kB/s]\n",
      "Downloading (…)8f862c9193/README.md: 100%|██████████| 3.51k/3.51k [00:00<00:00, 2.73MB/s]\n",
      "Downloading (…)862c9193/config.json: 100%|██████████| 622/622 [00:00<00:00, 501kB/s]\n",
      "Downloading (…)ce_transformers.json: 100%|██████████| 116/116 [00:00<00:00, 85.9kB/s]\n",
      "Downloading (…)\"pytorch_model.bin\";: 100%|██████████| 152M/152M [00:07<00:00, 20.5MB/s] \n",
      "Downloading (…)nce_bert_config.json: 100%|██████████| 53.0/53.0 [00:00<00:00, 25.7kB/s]\n",
      "Downloading (…)cial_tokens_map.json: 100%|██████████| 125/125 [00:00<00:00, 71.9kB/s]\n",
      "Downloading (…)c9193/tokenizer.json: 100%|██████████| 712k/712k [00:00<00:00, 5.86MB/s]\n",
      "Downloading (…)okenizer_config.json: 100%|██████████| 436/436 [00:00<00:00, 337kB/s]\n",
      "Downloading (…)8f862c9193/vocab.txt: 100%|██████████| 232k/232k [00:00<00:00, 4.13MB/s]\n",
      "Downloading (…)62c9193/modules.json: 100%|██████████| 229/229 [00:00<00:00, 176kB/s]\n",
      "Some weights of DistilBertModel were not initialized from the model checkpoint at /home/dogdog/.cache/torch/sentence_transformers/hlyu_multi-qa-distilbert-dot_14/ and are newly initialized: ['transformer.layer.3.attention.v_lin.weight', 'transformer.layer.2.attention.k_lin.bias', 'transformer.layer.3.attention.q_lin.weight', 'transformer.layer.2.attention.q_lin.weight', 'transformer.layer.2.output_layer_norm.bias', 'transformer.layer.3.ffn.lin1.weight', 'transformer.layer.3.sa_layer_norm.weight', 'transformer.layer.3.attention.k_lin.weight', 'transformer.layer.3.attention.out_lin.weight', 'transformer.layer.2.attention.out_lin.bias', 'transformer.layer.3.attention.out_lin.bias', 'transformer.layer.2.attention.q_lin.bias', 'transformer.layer.2.ffn.lin2.weight', 'transformer.layer.2.ffn.lin1.bias', 'transformer.layer.2.ffn.lin2.bias', 'transformer.layer.3.ffn.lin2.weight', 'transformer.layer.3.output_layer_norm.bias', 'transformer.layer.2.ffn.lin1.weight', 'transformer.layer.2.sa_layer_norm.bias', 'transformer.layer.3.ffn.lin1.bias', 'transformer.layer.3.attention.q_lin.bias', 'transformer.layer.2.attention.k_lin.weight', 'transformer.layer.2.attention.out_lin.weight', 'transformer.layer.3.attention.k_lin.bias', 'transformer.layer.3.output_layer_norm.weight', 'transformer.layer.2.sa_layer_norm.weight', 'transformer.layer.2.output_layer_norm.weight', 'transformer.layer.3.attention.v_lin.bias', 'transformer.layer.3.sa_layer_norm.bias', 'transformer.layer.3.ffn.lin2.bias', 'transformer.layer.2.attention.v_lin.weight', 'transformer.layer.2.attention.v_lin.bias']\n",
      "You should probably TRAIN this model on a down-stream task to be able to use it for predictions and inference.\n"
     ]
    }
   ],
   "source": [
    "from sentence_transformers import SentenceTransformer\n",
    "\n",
    "\n",
    "model_cards = [\"multi-qa-distilbert-dot_14\"]\n",
    "\n",
    "\n",
    "for card in model_cards:\n",
    "    model = SentenceTransformer(f\"hlyu/{card}\")\n",
    "    model.save(f\"../models/{card}\")"
   ]
  },
  {
   "cell_type": "code",
   "execution_count": null,
   "metadata": {},
   "outputs": [],
   "source": []
  }
 ],
 "metadata": {
  "kernelspec": {
   "display_name": "cis630",
   "language": "python",
   "name": "python3"
  },
  "language_info": {
   "codemirror_mode": {
    "name": "ipython",
    "version": 3
   },
   "file_extension": ".py",
   "mimetype": "text/x-python",
   "name": "python",
   "nbconvert_exporter": "python",
   "pygments_lexer": "ipython3",
   "version": "3.8.16"
  },
  "orig_nbformat": 4
 },
 "nbformat": 4,
 "nbformat_minor": 2
}
