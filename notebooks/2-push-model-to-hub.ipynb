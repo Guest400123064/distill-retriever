{
 "cells": [
  {
   "cell_type": "code",
   "execution_count": 8,
   "metadata": {},
   "outputs": [
    {
     "name": "stderr",
     "output_type": "stream",
     "text": [
      "Downloading (…)40eb4/.gitattributes: 100%|██████████| 1.53k/1.53k [00:00<00:00, 1.27MB/s]\n",
      "Downloading (…)_Pooling/config.json: 100%|██████████| 190/190 [00:00<00:00, 165kB/s]\n",
      "Downloading (…)22be540eb4/README.md: 100%|██████████| 3.89k/3.89k [00:00<00:00, 3.26MB/s]\n",
      "Downloading (…)be540eb4/config.json: 100%|██████████| 548/548 [00:00<00:00, 464kB/s]\n",
      "Downloading (…)ce_transformers.json: 100%|██████████| 116/116 [00:00<00:00, 97.6kB/s]\n",
      "Downloading (…)\"pytorch_model.bin\";: 100%|██████████| 152M/152M [00:11<00:00, 13.0MB/s] \n",
      "Downloading (…)nce_bert_config.json: 100%|██████████| 53.0/53.0 [00:00<00:00, 41.4kB/s]\n",
      "Downloading (…)cial_tokens_map.json: 100%|██████████| 125/125 [00:00<00:00, 90.8kB/s]\n",
      "Downloading (…)40eb4/tokenizer.json: 100%|██████████| 712k/712k [00:00<00:00, 5.50MB/s]\n",
      "Downloading (…)okenizer_config.json: 100%|██████████| 315/315 [00:00<00:00, 253kB/s]\n",
      "Downloading (…)22be540eb4/vocab.txt: 100%|██████████| 232k/232k [00:00<00:00, 2.98MB/s]\n",
      "Downloading (…)e540eb4/modules.json: 100%|██████████| 229/229 [00:00<00:00, 195kB/s]\n"
     ]
    }
   ],
   "source": [
    "from sentence_transformers import SentenceTransformer\n",
    "\n",
    "\n",
    "model = SentenceTransformer(\"hlyu/msmarco-distilbert-cos-v5_L_1_4\")"
   ]
  },
  {
   "cell_type": "code",
   "execution_count": 7,
   "metadata": {},
   "outputs": [],
   "source": [
    "model.save(\"../models/msmarco-distilbert-cos-v5_L_1_4\")"
   ]
  },
  {
   "cell_type": "code",
   "execution_count": null,
   "metadata": {},
   "outputs": [],
   "source": []
  }
 ],
 "metadata": {
  "kernelspec": {
   "display_name": "cis630",
   "language": "python",
   "name": "python3"
  },
  "language_info": {
   "codemirror_mode": {
    "name": "ipython",
    "version": 3
   },
   "file_extension": ".py",
   "mimetype": "text/x-python",
   "name": "python",
   "nbconvert_exporter": "python",
   "pygments_lexer": "ipython3",
   "version": "3.8.16"
  },
  "orig_nbformat": 4
 },
 "nbformat": 4,
 "nbformat_minor": 2
}
