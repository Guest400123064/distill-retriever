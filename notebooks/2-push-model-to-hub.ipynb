{
 "cells": [
  {
   "cell_type": "code",
   "execution_count": 4,
   "metadata": {},
   "outputs": [
    {
     "name": "stderr",
     "output_type": "stream",
     "text": [
      "Downloading (…)89534/.gitattributes: 100%|██████████| 1.53k/1.53k [00:00<00:00, 1.21MB/s]\n",
      "Downloading (…)_Pooling/config.json: 100%|██████████| 190/190 [00:00<00:00, 132kB/s]\n",
      "Downloading (…)ddfb389534/README.md: 100%|██████████| 3.56k/3.56k [00:00<00:00, 2.83MB/s]\n",
      "Downloading (…)fb389534/config.json: 100%|██████████| 751/751 [00:00<00:00, 634kB/s]\n",
      "Downloading (…)ce_transformers.json: 100%|██████████| 124/124 [00:00<00:00, 100kB/s]\n",
      "Downloading (…)\"pytorch_model.bin\";: 100%|██████████| 154M/154M [00:05<00:00, 27.2MB/s] \n",
      "Downloading (…)nce_bert_config.json: 100%|██████████| 53.0/53.0 [00:00<00:00, 42.9kB/s]\n",
      "Downloading (…)cial_tokens_map.json: 100%|██████████| 125/125 [00:00<00:00, 104kB/s]\n",
      "Downloading (…)89534/tokenizer.json: 100%|██████████| 712k/712k [00:00<00:00, 7.39MB/s]\n",
      "Downloading (…)okenizer_config.json: 100%|██████████| 507/507 [00:00<00:00, 363kB/s]\n",
      "Downloading (…)ddfb389534/vocab.txt: 100%|██████████| 232k/232k [00:00<00:00, 1.65MB/s]\n",
      "Downloading (…)b389534/modules.json: 100%|██████████| 229/229 [00:00<00:00, 184kB/s]\n",
      "Downloading (…)dc06b/.gitattributes: 100%|██████████| 1.53k/1.53k [00:00<00:00, 1.30MB/s]\n",
      "Downloading (…)_Pooling/config.json: 100%|██████████| 190/190 [00:00<00:00, 128kB/s]\n",
      "Downloading (…)96aaadc06b/README.md: 100%|██████████| 3.92k/3.92k [00:00<00:00, 3.25MB/s]\n",
      "Downloading (…)aaadc06b/config.json: 100%|██████████| 801/801 [00:00<00:00, 671kB/s]\n",
      "Downloading (…)ce_transformers.json: 100%|██████████| 124/124 [00:00<00:00, 92.3kB/s]\n",
      "Downloading (…)\"pytorch_model.bin\";: 100%|██████████| 154M/154M [00:07<00:00, 21.7MB/s] \n",
      "Downloading (…)nce_bert_config.json: 100%|██████████| 53.0/53.0 [00:00<00:00, 43.9kB/s]\n",
      "Downloading (…)cial_tokens_map.json: 100%|██████████| 125/125 [00:00<00:00, 109kB/s]\n",
      "Downloading (…)dc06b/tokenizer.json: 100%|██████████| 712k/712k [00:00<00:00, 6.46MB/s]\n",
      "Downloading (…)okenizer_config.json: 100%|██████████| 557/557 [00:00<00:00, 473kB/s]\n",
      "Downloading (…)96aaadc06b/vocab.txt: 100%|██████████| 232k/232k [00:00<00:00, 2.73MB/s]\n",
      "Downloading (…)aadc06b/modules.json: 100%|██████████| 229/229 [00:00<00:00, 202kB/s]\n"
     ]
    }
   ],
   "source": [
    "from sentence_transformers import SentenceTransformer\n",
    "\n",
    "\n",
    "model_cards = [\n",
    "               \"co-condenser-marco-retriever_111_cls\",\n",
    "               \"co-condenser-marco-retriever_111_mean\",]\n",
    "\n",
    "\n",
    "for card in model_cards:\n",
    "    model = SentenceTransformer(f\"hlyu/{card}\")\n",
    "    model.save(f\"../models/{card}\")"
   ]
  },
  {
   "cell_type": "code",
   "execution_count": null,
   "metadata": {},
   "outputs": [],
   "source": []
  }
 ],
 "metadata": {
  "kernelspec": {
   "display_name": "cis630",
   "language": "python",
   "name": "python3"
  },
  "language_info": {
   "codemirror_mode": {
    "name": "ipython",
    "version": 3
   },
   "file_extension": ".py",
   "mimetype": "text/x-python",
   "name": "python",
   "nbconvert_exporter": "python",
   "pygments_lexer": "ipython3",
   "version": "3.8.16"
  },
  "orig_nbformat": 4
 },
 "nbformat": 4,
 "nbformat_minor": 2
}
