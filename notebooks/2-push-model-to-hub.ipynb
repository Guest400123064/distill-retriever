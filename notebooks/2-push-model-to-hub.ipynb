{
 "cells": [
  {
   "cell_type": "code",
   "execution_count": 2,
   "metadata": {},
   "outputs": [
    {
     "name": "stderr",
     "output_type": "stream",
     "text": [
      "Cloning https://huggingface.co/guest400123064/test-paraphrase-MiniLM-L3-v2 into local empty directory.\n",
      "Upload file pytorch_model.bin: 76.3MB [00:49, 1.81MB/s]                            To https://huggingface.co/guest400123064/test-paraphrase-MiniLM-L3-v2\n",
      "   002ef39..e477a24  main -> main\n",
      "\n",
      "Upload file pytorch_model.bin: 100%|██████████| 66.4M/66.4M [00:50<00:00, 1.39MB/s]\n"
     ]
    },
    {
     "data": {
      "text/plain": [
       "'https://huggingface.co/guest400123064/test-paraphrase-MiniLM-L3-v2/commit/e477a2433776525e5c9dac308c3a668b90bfe16d'"
      ]
     },
     "execution_count": 2,
     "metadata": {},
     "output_type": "execute_result"
    }
   ],
   "source": [
    "from sentence_transformers import SentenceTransformer\n",
    "\n",
    "\n",
    "model = SentenceTransformer(\"paraphrase-MiniLM-L3-v2\")\n",
    "model.save_to_hub(\"test-paraphrase-MiniLM-L3-v2\", exist_ok=True)"
   ]
  },
  {
   "cell_type": "code",
   "execution_count": null,
   "metadata": {},
   "outputs": [],
   "source": []
  }
 ],
 "metadata": {
  "kernelspec": {
   "display_name": "cis630",
   "language": "python",
   "name": "python3"
  },
  "language_info": {
   "codemirror_mode": {
    "name": "ipython",
    "version": 3
   },
   "file_extension": ".py",
   "mimetype": "text/x-python",
   "name": "python",
   "nbconvert_exporter": "python",
   "pygments_lexer": "ipython3",
   "version": "3.8.16"
  },
  "orig_nbformat": 4
 },
 "nbformat": 4,
 "nbformat_minor": 2
}
